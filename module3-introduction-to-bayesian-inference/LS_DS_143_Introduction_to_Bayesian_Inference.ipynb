{
  "nbformat": 4,
  "nbformat_minor": 0,
  "metadata": {
    "colab": {
      "name": "LS_DS_143_Introduction_to_Bayesian_Inference.ipynb",
      "version": "0.3.2",
      "provenance": [],
      "include_colab_link": true
    },
    "kernelspec": {
      "name": "python3",
      "display_name": "Python 3"
    }
  },
  "cells": [
    {
      "cell_type": "markdown",
      "metadata": {
        "id": "view-in-github",
        "colab_type": "text"
      },
      "source": [
        "<a href=\"https://colab.research.google.com/github/Granero0011/DS-Unit-1-Sprint-4-Statistical-Tests-and-Experiments/blob/master/module3-introduction-to-bayesian-inference/LS_DS_143_Introduction_to_Bayesian_Inference.ipynb\" target=\"_parent\"><img src=\"https://colab.research.google.com/assets/colab-badge.svg\" alt=\"Open In Colab\"/></a>"
      ]
    },
    {
      "metadata": {
        "id": "H7OLbevlbd_Z",
        "colab_type": "text"
      },
      "cell_type": "markdown",
      "source": [
        "# Lambda School Data Science Module 143\n",
        "\n",
        "## Introduction to Bayesian Inference\n",
        "\n",
        "!['Detector! What would the Bayesian statistician say if I asked him whether the--' [roll] 'I AM A NEUTRINO DETECTOR, NOT A LABYRINTH GUARD. SERIOUSLY, DID YOUR BRAIN FALL OUT?' [roll] '... yes.'](https://imgs.xkcd.com/comics/frequentists_vs_bayesians.png)\n",
        "\n",
        "*[XKCD 1132](https://www.xkcd.com/1132/)*\n"
      ]
    },
    {
      "metadata": {
        "id": "3mz8p08BsN6p",
        "colab_type": "text"
      },
      "cell_type": "markdown",
      "source": [
        "## Prepare - Bayes' Theorem and the Bayesian mindset"
      ]
    },
    {
      "metadata": {
        "id": "GhycNr-Sbeie",
        "colab_type": "text"
      },
      "cell_type": "markdown",
      "source": [
        "Bayes' theorem possesses a near-mythical quality - a bit of math that somehow magically evaluates a situation. But this mythicalness has more to do with its reputation and advanced applications than the actual core of it - deriving it is actually remarkably straightforward.\n",
        "\n",
        "### The Law of Total Probability\n",
        "\n",
        "By definition, the total probability of all outcomes (events) if some variable (event space) $A$ is 1. That is:\n",
        "\n",
        "$$P(A) = \\sum_n P(A_n) = 1$$\n",
        "\n",
        "The law of total probability takes this further, considering two variables ($A$ and $B$) and relating their marginal probabilities (their likelihoods considered independently, without reference to one another) and their conditional probabilities (their likelihoods considered jointly). A marginal probability is simply notated as e.g. $P(A)$, while a conditional probability is notated $P(A|B)$, which reads \"probability of $A$ *given* $B$\".\n",
        "\n",
        "The law of total probability states:\n",
        "\n",
        "$$P(A) = \\sum_n P(A | B_n) P(B_n)$$\n",
        "\n",
        "In words - the total probability of $A$ is equal to the sum of the conditional probability of $A$ on any given event $B_n$ times the probability of that event $B_n$, and summed over all possible events in $B$.\n",
        "\n",
        "### The Law of Conditional Probability\n",
        "\n",
        "What's the probability of something conditioned on something else? To determine this we have to go back to set theory and think about the intersection of sets:\n",
        "\n",
        "The formula for actual calculation:\n",
        "\n",
        "$$P(A|B) = \\frac{P(A \\cap B)}{P(B)}$$\n",
        "\n",
        "![Visualization of set intersection](https://upload.wikimedia.org/wikipedia/commons/9/99/Venn0001.svg)\n",
        "\n",
        "Think of the overall rectangle as the whole probability space, $A$ as the left circle, $B$ as the right circle, and their intersection as the red area. Try to visualize the ratio being described in the above formula, and how it is different from just the $P(A)$ (not conditioned on $B$).\n",
        "\n",
        "We can see how this relates back to the law of total probability - multiply both sides by $P(B)$ and you get $P(A|B)P(B) = P(A \\cap B)$ - replaced back into the law of total probability we get $P(A) = \\sum_n P(A \\cap B_n)$.\n",
        "\n",
        "This may not seem like an improvement at first, but try to relate it back to the above picture - if you think of sets as physical objects, we're saying that the total probability of $A$ given $B$ is all the little pieces of it intersected with $B$, added together. The conditional probability is then just that again, but divided by the probability of $B$ itself happening in the first place.\n",
        "\n",
        "### Bayes Theorem\n",
        "\n",
        "Here is is, the seemingly magic tool:\n",
        "\n",
        "$$P(A|B) = \\frac{P(B|A)P(A)}{P(B)}$$\n",
        "\n",
        "In words - the probability of $A$ conditioned on $B$ is the probability of $B$ conditioned on $A$, times the probability of $A$ and divided by the probability of $B$. These unconditioned probabilities are referred to as \"prior beliefs\", and the conditioned probabilities as \"updated.\"\n",
        "\n",
        "Why is this important? Scroll back up to the XKCD example - the Bayesian statistician draws a less absurd conclusion because their prior belief in the likelihood that the sun will go nova is extremely low. So, even when updated based on evidence from a detector that is $35/36 = 0.972$ accurate, the prior belief doesn't shift enough to change their overall opinion.\n",
        "\n",
        "There's many examples of Bayes' theorem - one less absurd example is to apply to [breathalyzer tests](https://www.bayestheorem.net/breathalyzer-example/). You may think that a breathalyzer test that is 100% accurate for true positives (detecting somebody who is drunk) is pretty good, but what if it also has 8% false positives (indicating somebody is drunk when they're not)? And furthermore, the rate of drunk driving (and thus our prior belief)  is 1/1000.\n",
        "\n",
        "What is the likelihood somebody really is drunk if they test positive? Some may guess it's 92% - the difference between the true positives and the false positives. But we have a prior belief of the background/true rate of drunk driving. Sounds like a job for Bayes' theorem!\n",
        "\n",
        "$$\n",
        "\\begin{aligned}\n",
        "P(Drunk | Positive) &= \\frac{P(Positive | Drunk)P(Drunk)}{P(Positive)} \\\\\n",
        "&= \\frac{1 \\times 0.001}{0.08} \\\\\n",
        "&= 0.0125\n",
        "\\end{aligned}\n",
        "$$\n",
        "\n",
        "In other words, the likelihood that somebody is drunk given they tested positive with a breathalyzer in this situation is only 1.25% - probably much lower than you'd guess. This is why, in practice, it's important to have a repeated test to confirm (the probability of two false positives in a row is $0.08 * 0.08 = 0.0064$, much lower), and Bayes' theorem has been relevant in court cases where proper consideration of evidence was important."
      ]
    },
    {
      "metadata": {
        "id": "htI3DGvDsRJF",
        "colab_type": "text"
      },
      "cell_type": "markdown",
      "source": [
        "## Live Lecture - Deriving Bayes' Theorem, Calculating Bayesian Confidence"
      ]
    },
    {
      "metadata": {
        "id": "moIJNQ-nbfe_",
        "colab_type": "text"
      },
      "cell_type": "markdown",
      "source": [
        "Notice that $P(A|B)$ appears in the above laws - in Bayesian terms, this is the belief in $A$ updated for the evidence $B$. So all we need to do is solve for this term to derive Bayes' theorem. Let's do it together!"
      ]
    },
    {
      "metadata": {
        "id": "ke-5EqJI0Tsn",
        "colab_type": "code",
        "colab": {}
      },
      "cell_type": "code",
      "source": [
        "# Activity 2 - Use SciPy to calculate Bayesian confidence intervals\n",
        "# https://docs.scipy.org/doc/scipy/reference/generated/scipy.stats.bayes_mvs.html#scipy.stats.bayes_mvs"
      ],
      "execution_count": 0,
      "outputs": []
    },
    {
      "metadata": {
        "id": "P-DzzRk5bf0z",
        "colab_type": "text"
      },
      "cell_type": "markdown",
      "source": [
        "## Assignment - Code it up!\n",
        "\n",
        "Most of the above was pure math - now write Python code to reproduce the results! This is purposefully open ended - you'll have to think about how you should represent probabilities and events. You can and should look things up, and as a stretch goal - refactor your code into helpful reusable functions!\n",
        "\n",
        "Specific goals/targets:\n",
        "\n",
        "1. Write a function `def prob_drunk_given_positive(prob_drunk_prior, prob_positive, prob_positive_drunk)` that reproduces the example from lecture, and use it to calculate and visualize a range of situations\n",
        "2. Explore `scipy.stats.bayes_mvs` - read its documentation, and experiment with it on data you've tested in other ways earlier this week\n",
        "3. Create a visualization comparing the results of a Bayesian approach to a traditional/frequentist approach\n",
        "4. In your own words, summarize the difference between Bayesian and Frequentist statistics\n",
        "\n",
        "If you're unsure where to start, check out [this blog post of Bayes theorem with Python](https://dataconomy.com/2015/02/introduction-to-bayes-theorem-with-python/) - you could and should create something similar!\n",
        "\n",
        "Stretch goals:\n",
        "\n",
        "- Apply a Bayesian technique to a problem you previously worked (in an assignment or project work) on from a frequentist (standard) perspective\n",
        "- Check out [PyMC3](https://docs.pymc.io/) (note this goes beyond hypothesis tests into modeling) - read the guides and work through some examples\n",
        "- Take PyMC3 further - see if you can build something with it!"
      ]
    },
    {
      "metadata": {
        "id": "xpVhZyUnbf7o",
        "colab_type": "code",
        "colab": {}
      },
      "cell_type": "code",
      "source": [
        "#Libraries\n",
        "\n",
        "import numpy as np\n",
        "import scipy.stats as st\n",
        "import pandas as pd\n",
        "import seaborn as sns\n",
        "import matplotlib.pyplot as plt\n",
        "%matplotlib inline\n",
        "\n",
        "\n"
      ],
      "execution_count": 0,
      "outputs": []
    },
    {
      "metadata": {
        "id": "7CmNyfkeLSw1",
        "colab_type": "code",
        "colab": {}
      },
      "cell_type": "code",
      "source": [
        "#Let's define the drunk /not drunk in a binary way:0 or 1\n",
        "#"
      ],
      "execution_count": 0,
      "outputs": []
    },
    {
      "metadata": {
        "id": "g4T2cwRSJe8f",
        "colab_type": "code",
        "colab": {}
      },
      "cell_type": "code",
      "source": [
        "def prob_drunk_given_positive(prob_drunk_prior, prob_positive, prob_positive_drunk):\n",
        "  samplesize= 100\n",
        "  parameterssize=100\n",
        "  parameters=np.linspace(0,1,parameterssize)\n",
        "  priorsize=100\n",
        "  sample=np.random.binomial(n=1, p=prob_positive_drunk, size=samplesize)\n",
        "  likelihood = np.array([np.product(st.bernoulli.pmf(sample, p)) for p in parameters])\n",
        "  priorsample=np.random.binomial(n=1, p=prob_drunk_prior, size=priorsize)\n",
        "  prior = np.array([np.product(st.bernoulli.pmf(priorsample, p)) for p in parameters])\n",
        "  prior = prior / np.sum(prior)\n",
        "  posterior = [prior[i] * likelihood[i] for i in range(prior.shape[0])]\n",
        "  posterior = posterior / np.sum(posterior)\n",
        "\n",
        "  fig, axes = plt.subplots(3, 1, sharex=True, figsize=(10,10))\n",
        "  axes[0].plot(parameters, likelihood)\n",
        "  axes[0].set_title(\"Sampling Distribution (Drunk or not)\")\n",
        "  axes[1].plot(parameters, prior)\n",
        "  axes[1].set_title(\"Prior Distribution (Drunk or not)\")\n",
        "  axes[2].plot(parameters, posterior)\n",
        "  axes[2].set_title(\"Posterior Distribution (Drunk or not)\")\n",
        "  sns.despine()\n",
        "  plt.tight_layout()\n",
        "\n",
        "  return posterior\n",
        "\n",
        "  \n",
        "  \n",
        "  "
      ],
      "execution_count": 0,
      "outputs": []
    },
    {
      "metadata": {
        "id": "kmbEnoMo6x9p",
        "colab_type": "code",
        "colab": {
          "base_uri": "https://localhost:8080/",
          "height": 71
        },
        "outputId": "586b1fb4-f999-4670-b807-473a9e624fae"
      },
      "cell_type": "code",
      "source": [
        "#Let's try a whole different set of probabilities here\n",
        "for x in [0.1, 0.2,0.3,0.4,0.5,0.6,0.7,0.8]:\n",
        "  for y in [0.1, 0.2,0.3,0.4,0.5,0.6,0.7,0.8]:\n",
        "    for z in [0.1, 0.2,0.3,0.4,0.5,0.6,0.7,0.8]:\n",
        "      try:\n",
        "        prob_drunk_given_positive(x,y,z)\n",
        "      except:\n",
        "        pass\n",
        "        "
      ],
      "execution_count": 0,
      "outputs": [
        {
          "output_type": "stream",
          "text": [
            "/usr/local/lib/python3.6/dist-packages/matplotlib/pyplot.py:514: RuntimeWarning: More than 20 figures have been opened. Figures created through the pyplot interface (`matplotlib.pyplot.figure`) are retained until explicitly closed and may consume too much memory. (To control this warning, see the rcParam `figure.max_open_warning`).\n",
            "  max_open_warning, RuntimeWarning)\n"
          ],
          "name": "stderr"
        }
      ]
    },
    {
      "metadata": {
        "id": "Kchn7hx07XXA",
        "colab_type": "text"
      },
      "cell_type": "markdown",
      "source": [
        ""
      ]
    },
    {
      "metadata": {
        "id": "cZD1YCILteOc",
        "colab_type": "code",
        "colab": {}
      },
      "cell_type": "code",
      "source": [
        "url='https://raw.githubusercontent.com/Granero0011/DS-Unit-1-Sprint-4-Statistical-Tests-and-Experiments/master/house-votes-84%20(1).csv'\n",
        "polling = pd.read_csv(url, header=None, names=['class name','handicapped-infants','water-project-cost-sharing','adoption-of-the-budget-resolution','physician-fee-freeze','el-salvador-aid', \"religious-groups-in-schools\",\n",
        "                                              'anti-satellite-test-ban','aid-to-nicaraguan-contras','mx-missile',\n",
        "                                              'immigration', 'synfuels-corporation-cutback', 'education-spending', 'superfund-right-to-sue',\n",
        "                                              'crime', 'duty-free-exports', 'export-administration-act-south-africa'])"
      ],
      "execution_count": 0,
      "outputs": []
    },
    {
      "metadata": {
        "id": "Hr8z-tHRs_xM",
        "colab_type": "code",
        "colab": {}
      },
      "cell_type": "code",
      "source": [
        "#Let's clean up the data and convert it to binaries\n",
        "polling= polling.replace('?', 0);\n",
        "polling= polling.replace('n', 0);\n",
        "polling= polling.replace('y', 1);"
      ],
      "execution_count": 0,
      "outputs": []
    },
    {
      "metadata": {
        "id": "q6iNDAyeupDV",
        "colab_type": "code",
        "colab": {}
      },
      "cell_type": "code",
      "source": [
        "#Let's isolate republicans\n",
        "republicans= polling[polling['class name']=='republican'];\n",
        "#Let's isolate democrats from the list\n",
        "democrats= polling[polling['class name']=='democrat'];"
      ],
      "execution_count": 0,
      "outputs": []
    },
    {
      "metadata": {
        "id": "brf0dtCOtqna",
        "colab_type": "code",
        "colab": {
          "base_uri": "https://localhost:8080/",
          "height": 1516
        },
        "outputId": "a421a04a-81de-4c1a-c05e-f90e6f4ba987"
      },
      "cell_type": "code",
      "source": [
        "help(st.bayes_mvs)"
      ],
      "execution_count": 10,
      "outputs": [
        {
          "output_type": "stream",
          "text": [
            "Help on function bayes_mvs in module scipy.stats.morestats:\n",
            "\n",
            "bayes_mvs(data, alpha=0.9)\n",
            "    Bayesian confidence intervals for the mean, var, and std.\n",
            "    \n",
            "    Parameters\n",
            "    ----------\n",
            "    data : array_like\n",
            "        Input data, if multi-dimensional it is flattened to 1-D by `bayes_mvs`.\n",
            "        Requires 2 or more data points.\n",
            "    alpha : float, optional\n",
            "        Probability that the returned confidence interval contains\n",
            "        the true parameter.\n",
            "    \n",
            "    Returns\n",
            "    -------\n",
            "    mean_cntr, var_cntr, std_cntr : tuple\n",
            "        The three results are for the mean, variance and standard deviation,\n",
            "        respectively.  Each result is a tuple of the form::\n",
            "    \n",
            "            (center, (lower, upper))\n",
            "    \n",
            "        with `center` the mean of the conditional pdf of the value given the\n",
            "        data, and `(lower, upper)` a confidence interval, centered on the\n",
            "        median, containing the estimate to a probability ``alpha``.\n",
            "    \n",
            "    See Also\n",
            "    --------\n",
            "    mvsdist\n",
            "    \n",
            "    Notes\n",
            "    -----\n",
            "    Each tuple of mean, variance, and standard deviation estimates represent\n",
            "    the (center, (lower, upper)) with center the mean of the conditional pdf\n",
            "    of the value given the data and (lower, upper) is a confidence interval\n",
            "    centered on the median, containing the estimate to a probability\n",
            "    ``alpha``.\n",
            "    \n",
            "    Converts data to 1-D and assumes all data has the same mean and variance.\n",
            "    Uses Jeffrey's prior for variance and std.\n",
            "    \n",
            "    Equivalent to ``tuple((x.mean(), x.interval(alpha)) for x in mvsdist(dat))``\n",
            "    \n",
            "    References\n",
            "    ----------\n",
            "    T.E. Oliphant, \"A Bayesian perspective on estimating mean, variance, and\n",
            "    standard-deviation from data\", http://scholarsarchive.byu.edu/facpub/278,\n",
            "    2006.\n",
            "    \n",
            "    Examples\n",
            "    --------\n",
            "    First a basic example to demonstrate the outputs:\n",
            "    \n",
            "    >>> from scipy import stats\n",
            "    >>> data = [6, 9, 12, 7, 8, 8, 13]\n",
            "    >>> mean, var, std = stats.bayes_mvs(data)\n",
            "    >>> mean\n",
            "    Mean(statistic=9.0, minmax=(7.103650222612533, 10.896349777387467))\n",
            "    >>> var\n",
            "    Variance(statistic=10.0, minmax=(3.176724206..., 24.45910382...))\n",
            "    >>> std\n",
            "    Std_dev(statistic=2.9724954732045084, minmax=(1.7823367265645143, 4.945614605014631))\n",
            "    \n",
            "    Now we generate some normally distributed random data, and get estimates of\n",
            "    mean and standard deviation with 95% confidence intervals for those\n",
            "    estimates:\n",
            "    \n",
            "    >>> n_samples = 100000\n",
            "    >>> data = stats.norm.rvs(size=n_samples)\n",
            "    >>> res_mean, res_var, res_std = stats.bayes_mvs(data, alpha=0.95)\n",
            "    \n",
            "    >>> import matplotlib.pyplot as plt\n",
            "    >>> fig = plt.figure()\n",
            "    >>> ax = fig.add_subplot(111)\n",
            "    >>> ax.hist(data, bins=100, density=True, label='Histogram of data')\n",
            "    >>> ax.vlines(res_mean.statistic, 0, 0.5, colors='r', label='Estimated mean')\n",
            "    >>> ax.axvspan(res_mean.minmax[0],res_mean.minmax[1], facecolor='r',\n",
            "    ...            alpha=0.2, label=r'Estimated mean (95% limits)')\n",
            "    >>> ax.vlines(res_std.statistic, 0, 0.5, colors='g', label='Estimated scale')\n",
            "    >>> ax.axvspan(res_std.minmax[0],res_std.minmax[1], facecolor='g', alpha=0.2,\n",
            "    ...            label=r'Estimated scale (95% limits)')\n",
            "    \n",
            "    >>> ax.legend(fontsize=10)\n",
            "    >>> ax.set_xlim([-4, 4])\n",
            "    >>> ax.set_ylim([0, 0.5])\n",
            "    >>> plt.show()\n",
            "\n"
          ],
          "name": "stdout"
        }
      ]
    },
    {
      "metadata": {
        "id": "mLCxg93tum79",
        "colab_type": "code",
        "colab": {
          "base_uri": "https://localhost:8080/",
          "height": 1397
        },
        "outputId": "e3e3d778-0910-4620-a6d8-3fe69d4797b0"
      },
      "cell_type": "code",
      "source": [
        "for y in range(1, len(polling.columns)):\n",
        "  x=polling.columns[y]\n",
        "  print(polling.columns[y])\n",
        "  print('Republicans')\n",
        "\n",
        "  print(st.bayes_mvs(republicans[x], alpha=0.95))\n",
        "  \n",
        "  print(\"Democrats\")\n",
        "  \n",
        "  print(st.bayes_mvs(democrats[x], alpha=0.95))"
      ],
      "execution_count": 15,
      "outputs": [
        {
          "output_type": "stream",
          "text": [
            "handicapped-infants\n",
            "Republicans\n",
            "(Mean(statistic=0.18452380952380953, minmax=(0.12526125471665267, 0.2437863643309664)), Variance(statistic=0.15321067821067821, minmax=(0.12351186176894866, 0.18991551737006435)), Std_dev(statistic=0.39082874638177345, minmax=(0.3514425440508714, 0.43579297535649236)))\n",
            "Democrats\n",
            "(Mean(statistic=0.5842696629213483, minmax=(0.5247719472369563, 0.6437673786057403)), Variance(statistic=0.24565883554647602, minmax=(0.20715452439620857, 0.29119534436864736)), Std_dev(statistic=0.4951706918050381, minmax=(0.45514231224553114, 0.5396251887825915)))\n",
            "water-project-cost-sharing\n",
            "Republicans\n",
            "(Mean(statistic=0.44642857142857145, minmax=(0.3704814451555409, 0.522375697701602)), Variance(statistic=0.2516233766233766, minmax=(0.20284794816068208, 0.3119050467756531)), Std_dev(statistic=0.500861298490665, minmax=(0.4503864431359831, 0.5584845985124864)))\n",
            "Democrats\n",
            "(Mean(statistic=0.449438202247191, minmax=(0.3893864348338393, 0.5094899696605427)), Variance(statistic=0.25025536261491316, minmax=(0.21103059657825818, 0.2966439059056906)), Std_dev(statistic=0.49978179619398716, minmax=(0.45938066630873586, 0.5446502601722417)))\n",
            "adoption-of-the-budget-resolution\n",
            "Republicans\n",
            "(Mean(statistic=0.13095238095238096, minmax=(0.07941444662385228, 0.18249031528090964)), Variance(statistic=0.11587301587301588, minmax=(0.09341184365478293, 0.14363283300980614)), Std_dev(statistic=0.3398858913570246, minmax=(0.30563351199563005, 0.37898922545345026)))\n",
            "Democrats\n",
            "(Mean(statistic=0.8651685393258427, minmax=(0.8239366017405851, 0.9064004769111003)), Variance(statistic=0.11797752808988764, minmax=(0.09948585267260743, 0.1398464127841113)), Std_dev(statistic=0.34315346099766475, minmax=(0.3154137800930825, 0.37396044280660395)))\n",
            "physician-fee-freeze\n",
            "Republicans\n",
            "(Mean(statistic=0.9702380952380952, minmax=(0.9442772968863529, 0.9961988935898376)), Variance(statistic=0.029401154401154407, minmax=(0.023701946630961424, 0.03644481908561396)), Std_dev(statistic=0.17120804710323007, minmax=(0.15395436541703333, 0.19090526206894864)))\n",
            "Democrats\n",
            "(Mean(statistic=0.052434456928838954, minmax=(0.02552525721745176, 0.07934365664022615)), Variance(statistic=0.05024968789013735, minmax=(0.042373603916110586, 0.05956421285249187)), Std_dev(statistic=0.2239522456238261, minmax=(0.20584849748324754, 0.2440578063748256)))\n",
            "el-salvador-aid\n",
            "Republicans\n",
            "(Mean(statistic=0.9345238095238095, minmax=(0.8967330684696345, 0.9723145505779845)), Variance(statistic=0.0623015873015873, minmax=(0.05022486114315383, 0.07722724240595742)), Std_dev(statistic=0.2492249616828494, minmax=(0.22410903851284944, 0.27789789924711095)))\n",
            "Democrats\n",
            "(Mean(statistic=0.20599250936329588, minmax=(0.1571693613158776, 0.25481565741071416)), Variance(statistic=0.16541822721598004, minmax=(0.1394907458107988, 0.19608094914174337)), Std_dev(statistic=0.4063314316633827, minmax=(0.3734845991614631, 0.4428102857226144)))\n",
            "religious-groups-in-schools\n",
            "Republicans\n",
            "(Mean(statistic=0.8869047619047619, minmax=(0.8385199369558394, 0.9352895868536844)), Variance(statistic=0.10212842712842712, minmax=(0.08233154713159727, 0.1265954390568995)), Std_dev(statistic=0.3190915501402795, minmax=(0.28693474368155086, 0.3558025281766552)))\n",
            "Democrats\n",
            "(Mean(statistic=0.4606741573033708, minmax=(0.40049996006382055, 0.520848354542921)), Variance(statistic=0.2512768130745659, minmax=(0.21189194595204697, 0.2978546973583669)), Std_dev(statistic=0.5008007203835795, minmax=(0.46031722317554763, 0.5457606594088354)))\n",
            "anti-satellite-test-ban\n",
            "Republicans\n",
            "(Mean(statistic=0.23214285714285715, minmax=(0.16764186452309232, 0.296643849762622)), Variance(statistic=0.18149350649350648, minmax=(0.14631226196364036, 0.22497409180334205)), Std_dev(statistic=0.42537555405759114, minmax=(0.38250785869526965, 0.4743143386018834)))\n",
            "Democrats\n",
            "(Mean(statistic=0.7490636704119851, minmax=(0.6967242507786483, 0.8014030900453218)), Variance(statistic=0.19010327999092047, minmax=(0.160306689010695, 0.22534174258142034)), Std_dev(statistic=0.4355956582600754, minmax=(0.40038317773190096, 0.4747017406555619)))\n",
            "aid-to-nicaraguan-contras\n",
            "Republicans\n",
            "(Mean(statistic=0.14285714285714285, minmax=(0.08939749343905154, 0.19631679227523416)), Variance(statistic=0.1246753246753247, minmax=(0.10050788657251863, 0.15454391995077527)), Std_dev(statistic=0.3525593493576236, minmax=(0.3170297881469794, 0.39312074474743164)))\n",
            "Democrats\n",
            "(Mean(statistic=0.8164794007490637, minmax=(0.7697486465482442, 0.8632101549498832)), Variance(statistic=0.1515435251390308, minmax=(0.12779075015016747, 0.17963436524289048)), Std_dev(statistic=0.3889174503595476, minmax=(0.3574783212310468, 0.4238329449711177)))\n",
            "mx-missile\n",
            "Republicans\n",
            "(Mean(statistic=0.1130952380952381, minmax=(0.06471041314631557, 0.16148006304416063)), Variance(statistic=0.10212842712842712, minmax=(0.08233154713159727, 0.1265954390568995)), Std_dev(statistic=0.3190915501402795, minmax=(0.28693474368155086, 0.3558025281766552)))\n",
            "Democrats\n",
            "(Mean(statistic=0.704119850187266, minmax=(0.6490176457484155, 0.7592220546261165)), Variance(statistic=0.21070253092725, minmax=(0.17767723471543595, 0.2497593702103921)), Std_dev(statistic=0.4585889790576594, minmax=(0.4215177750883537, 0.49975931227981346)))\n",
            "immigration\n",
            "Republicans\n",
            "(Mean(statistic=0.5476190476190477, minmax=(0.4715794256175998, 0.6236586696204955)), Variance(statistic=0.25223665223665226, minmax=(0.20334234459347517, 0.3126652454559666)), Std_dev(statistic=0.5014712956414907, minmax=(0.45093496714434905, 0.5591647748704907)))\n",
            "Democrats\n",
            "(Mean(statistic=0.46441947565543074, minmax=(0.4042113143124596, 0.5246276369984019)), Variance(statistic=0.2515605493133582, minmax=(0.21213120966698826, 0.29819102831744354)), Std_dev(statistic=0.5010833871783295, minmax=(0.4605770398825676, 0.5460687029279774)))\n",
            "synfuels-corporation-cutback\n",
            "Republicans\n",
            "(Mean(statistic=0.125, minmax=(0.07447485666781078, 0.17552514333218922)), Variance(statistic=0.11136363636363636, minmax=(0.08977657576659866, 0.138043136831031)), Std_dev(statistic=0.33320666808131294, minmax=(0.2996273948867137, 0.37154156810649197)))\n",
            "Democrats\n",
            "(Mean(statistic=0.48314606741573035, minmax=(0.42281918229499366, 0.543472952536467)), Variance(statistic=0.2525536261491318, minmax=(0.212968632669283, 0.2993681866742123)), Std_dev(statistic=0.5020714677204753, minmax=(0.46148524642645183, 0.5471454894945332)))\n",
            "education-spending\n",
            "Republicans\n",
            "(Mean(statistic=0.8035714285714286, minmax=(0.7428750061374492, 0.864267851005408)), Variance(statistic=0.16071428571428573, minmax=(0.12956094753488728, 0.1992167718115462)), Std_dev(statistic=0.40028491459612137, minmax=(0.3599457563784956, 0.44633706076411156)))\n",
            "Democrats\n",
            "(Mean(statistic=0.1348314606741573, minmax=(0.09359952308889968, 0.17606339825941492)), Variance(statistic=0.11797752808988764, minmax=(0.09948585267260743, 0.1398464127841113)), Std_dev(statistic=0.34315346099766475, minmax=(0.3154137800930825, 0.37396044280660395)))\n",
            "superfund-right-to-sue\n",
            "Republicans\n",
            "(Mean(statistic=0.8095238095238095, minmax=(0.7495331436014631, 0.869514475446156)), Variance(statistic=0.15699855699855697, minmax=(0.1265654867950234, 0.19461086216023543)), Std_dev(statistic=0.39563054332256, minmax=(0.35576043455536677, 0.4411472114388069)))\n",
            "Democrats\n",
            "(Mean(statistic=0.27340823970037453, minmax=(0.21960123724933478, 0.3272152421514143)), Variance(statistic=0.2009136306889116, minmax=(0.1694226365499599, 0.23815595212224439)), Std_dev(statistic=0.44780963976783644, minmax=(0.41160981104677263, 0.48801224587324077)))\n",
            "crime\n",
            "Republicans\n",
            "(Mean(statistic=0.9404761904761905, minmax=(0.904329563030822, 0.9766228179215589)), Variance(statistic=0.05699855699855698, minmax=(0.04594978610664912, 0.07065375969971782)), Std_dev(statistic=0.23838224889852874, minmax=(0.2143590121890123, 0.26580774951027636)))\n",
            "Democrats\n",
            "(Mean(statistic=0.33707865168539325, minmax=(0.28001173722974465, 0.39414556614104185)), Variance(statistic=0.22599591419816145, minmax=(0.190573548950774, 0.2678876089046288)), Std_dev(statistic=0.474940309642767, minmax=(0.43654730436777867, 0.5175786016680257)))\n",
            "duty-free-exports\n",
            "Republicans\n",
            "(Mean(statistic=0.08333333333333333, minmax=(0.04110892062782448, 0.12555774603884218)), Variance(statistic=0.07777777777777777, minmax=(0.06270110053540223, 0.0964110796915137)), Std_dev(statistic=0.27846444248143887, minmax=(0.25040187805885605, 0.31050133605431346)))\n",
            "Democrats\n",
            "(Mean(statistic=0.599250936329588, minmax=(0.5400909065910334, 0.6584109660681426)), Variance(statistic=0.24287822040631027, minmax=(0.20480973998978344, 0.2878993009696952)), Std_dev(statistic=0.492360295111825, minmax=(0.4525591011014842, 0.5365624856153244)))\n",
            "export-administration-act-south-africa\n",
            "Republicans\n",
            "(Mean(statistic=0.5714285714285714, minmax=(0.49582521018179576, 0.6470319326753471)), Variance(statistic=0.24935064935064932, minmax=(0.2010157731450372, 0.3090878399015504)), Std_dev(statistic=0.4985942134029854, minmax=(0.4483478260737273, 0.5559566888720294)))\n",
            "Democrats\n",
            "(Mean(statistic=0.6479400749063671, minmax=(0.5902815560661676, 0.7055985937465665)), Variance(statistic=0.2307059357621155, minmax=(0.1945453266188001, 0.2734707028253027)), Std_dev(statistic=0.4798639466093839, minmax=(0.44107292664456305, 0.5229442635934567)))\n"
          ],
          "name": "stdout"
        }
      ]
    },
    {
      "metadata": {
        "id": "4Gv6QLs_wvko",
        "colab_type": "code",
        "colab": {
          "base_uri": "https://localhost:8080/",
          "height": 300
        },
        "outputId": "5eebc3d5-5532-49f8-d7f8-2a5be98a58fd"
      },
      "cell_type": "code",
      "source": [
        "#Frequentist statistics\n",
        "array = []\n",
        "\n",
        "for x in range (0,100):\n",
        "  array.append(np.mean(np.random.binomial(n=1, p=.5, size=100)))\n",
        "\n",
        "plt.bar(range(1,101), array)\n",
        "plt.ylabel(\"Mean\")\n",
        "plt.xlabel(\"Distribution #\")\n",
        "\n",
        "#THis example is meant to convey that frequentist statistics are based\n",
        "#on a subset of measurements from a distribution.\n",
        "#My random binomial function mimics a regular coin that we can use\n",
        "#coin flips. We can extract the mean from a series of flip and estimate\n",
        "#a probability of getting head or tail\n"
      ],
      "execution_count": 19,
      "outputs": [
        {
          "output_type": "execute_result",
          "data": {
            "text/plain": [
              "Text(0.5, 0, 'Distribution #')"
            ]
          },
          "metadata": {
            "tags": []
          },
          "execution_count": 19
        },
        {
          "output_type": "display_data",
          "data": {
            "image/png": "[encoded data removed]",
            "text/plain": [
              "<Figure size 432x288 with 1 Axes>"
            ]
          },
          "metadata": {
            "tags": []
          }
        }
      ]
    },
    {
      "metadata": {
        "id": "DTUl6rAK36dm",
        "colab_type": "code",
        "colab": {
          "base_uri": "https://localhost:8080/",
          "height": 1174
        },
        "outputId": "a7d1c006-aefb-4d97-c838-b2e627e7acb7"
      },
      "cell_type": "code",
      "source": [
        "#Bayesian \n",
        "\n",
        "#Bayesian is a little bit more complex in the sense \n",
        "#that it is based on probabilistic inference, and use\n",
        "#conditional probabilities to guess the future state of\n",
        "#our distributions.\n",
        "prob_drunk_given_positive(0.5, 0.6, 0.7)\n"
      ],
      "execution_count": 27,
      "outputs": [
        {
          "output_type": "execute_result",
          "data": {
            "text/plain": [
              "array([0.00000000e+000, 7.19941771e-181, 2.08480385e-145, 8.11679222e-125,\n",
              "       2.56292701e-110, 3.70486083e-099, 4.12195142e-090, 1.59025225e-082,\n",
              "       5.22452090e-076, 2.60907840e-070, 2.94154691e-065, 9.92684450e-061,\n",
              "       1.23484652e-056, 6.63160600e-053, 1.73841904e-049, 2.45169951e-046,\n",
              "       2.01181786e-043, 1.02406831e-040, 3.40957209e-038, 7.76162579e-036,\n",
              "       1.25414895e-033, 1.48506045e-031, 1.32444216e-029, 9.10958729e-028,\n",
              "       4.93270723e-026, 2.14099460e-024, 7.56772460e-023, 2.20904919e-021,\n",
              "       5.39159444e-020, 1.11246980e-018, 1.95970591e-017, 2.97336850e-016,\n",
              "       3.91644182e-015, 4.51027337e-014, 4.57044258e-013, 4.09883477e-012,\n",
              "       3.27014747e-011, 2.33193937e-010, 1.49262212e-009, 8.60844597e-009,\n",
              "       4.48887128e-008, 2.12291042e-007, 9.13091096e-007, 3.58064811e-006,\n",
              "       1.28301458e-005, 4.20890309e-005, 1.26623015e-004, 3.49865541e-004,\n",
              "       8.88948809e-004, 2.07916576e-003, 4.48020864e-003, 8.89972165e-003,\n",
              "       1.63045804e-002, 2.75548524e-002, 4.29592089e-002, 6.17749050e-002,\n",
              "       8.19040461e-002, 1.00065781e-001, 1.12566424e-001, 1.16475323e-001,\n",
              "       1.10717738e-001, 9.65399197e-002, 7.70789767e-002, 5.62358402e-002,\n",
              "       3.74036287e-002, 2.26186647e-002, 1.23977450e-002, 6.13811479e-003,\n",
              "       2.73428043e-003, 1.09106009e-003, 3.88051916e-004, 1.22328958e-004,\n",
              "       3.39638734e-005, 8.24606551e-006, 1.73660318e-006, 3.14330239e-007,\n",
              "       4.83902025e-008, 6.26063930e-009, 6.71437873e-010, 5.87541778e-011,\n",
              "       4.11846491e-012, 2.26347343e-013, 9.51034575e-015, 2.96480974e-016,\n",
              "       6.61625546e-018, 1.01206473e-019, 1.00626525e-021, 6.08775593e-024,\n",
              "       2.06172494e-026, 3.51071869e-029, 2.60907840e-032, 6.98553822e-036,\n",
              "       5.14846703e-040, 7.04218451e-045, 9.69996507e-051, 4.83007159e-058,\n",
              "       1.27374826e-067, 2.38369819e-081, 3.34109057e-105, 0.00000000e+000])"
            ]
          },
          "metadata": {
            "tags": []
          },
          "execution_count": 27
        },
        {
          "output_type": "display_data",
          "data": {
            "image/png": "[encoded data removed]",
            "text/plain": [
              "<Figure size 720x720 with 3 Axes>"
            ]
          },
          "metadata": {
            "tags": []
          }
        }
      ]
    },
    {
      "metadata": {
        "id": "SjAwBVmC5zto",
        "colab_type": "text"
      },
      "cell_type": "markdown",
      "source": [
        ""
      ]
    },
    {
      "metadata": {
        "id": "K5_UaABI5elH",
        "colab_type": "code",
        "colab": {}
      },
      "cell_type": "code",
      "source": [
        ""
      ],
      "execution_count": 0,
      "outputs": []
    },
    {
      "metadata": {
        "id": "uWgWjp3PQ3Sq",
        "colab_type": "text"
      },
      "cell_type": "markdown",
      "source": [
        "## Resources"
      ]
    },
    {
      "metadata": {
        "id": "QRgHqmYIQ9qn",
        "colab_type": "text"
      },
      "cell_type": "markdown",
      "source": [
        "- [Worked example of Bayes rule calculation](https://en.wikipedia.org/wiki/Bayes'_theorem#Examples) (helpful as it fully breaks out the denominator)\n",
        "- [Source code for mvsdist in scipy](https://github.com/scipy/scipy/blob/90534919e139d2a81c24bf08341734ff41a3db12/scipy/stats/morestats.py#L139)"
      ]
    }
  ]
}